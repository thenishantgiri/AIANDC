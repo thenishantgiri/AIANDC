{
  "nbformat": 4,
  "nbformat_minor": 0,
  "metadata": {
    "colab": {
      "name": "LAB 2.ipynb",
      "provenance": [],
      "collapsed_sections": []
    },
    "kernelspec": {
      "name": "python3",
      "display_name": "Python 3"
    },
    "language_info": {
      "name": "python"
    }
  },
  "cells": [
    {
      "cell_type": "code",
      "metadata": {
        "id": "ydwGzD-O8wxA"
      },
      "source": [
        "#1. To perform basic arithmetic operations with complex numbers (addition, subtraction, multiplication)\n",
        "c1=complex(5,-2)\n",
        "c2=complex(9,8)\n",
        "print(\"complex number 1 is: \",c1,\"\\ncomplex number 2 is: \",c2)\n",
        "sum=c1+c2\n",
        "sub=c1-c2\n",
        "multiply=c1*c2\n",
        "print(\"C1+C2 = \",sum)\n",
        "print(\"C1-C2 = \",sub)\n",
        "print(\"C1*C2 = \",multiply)"
      ],
      "execution_count": null,
      "outputs": []
    },
    {
      "cell_type": "code",
      "metadata": {
        "id": "WfX71ZnJ84td"
      },
      "source": [
        "#2. To accept a complex number as input from the user and display it in magnitude and phase form (method 1)\n",
        "c=complex(input('Please enter the complex number: '))\n",
        "print(\"complex number is: \",c)\n",
        "print(\"conjugate of complex number is: \",c.conjugate())\n",
        "import cmath\n",
        "cphase = cmath.phase(c)\n",
        "print(\"PHASE part (in radians):\", cphase)\n",
        "import numpy\n",
        "print(\"PHASE part (in degrees):\", numpy.degrees(cphase))\n",
        "print(\"Magnitude part (in degrees):\", abs(c))"
      ],
      "execution_count": null,
      "outputs": []
    },
    {
      "cell_type": "code",
      "metadata": {
        "id": "1JSZVze489VL"
      },
      "source": [
        "#3. To create an array of ten integer elements and display the sum of the elements of the array\n",
        "print(\"Please enter the 10 elements of the array:\")\n",
        "arr = {}\n",
        "for i in range(0,10):\n",
        "  arr[i]=int(input())\n",
        "s=0\n",
        "for i in range(0,10):\n",
        "  s+=arr[i]\n",
        "print(\"sum of the array elements is: \",s) "
      ],
      "execution_count": null,
      "outputs": []
    },
    {
      "cell_type": "code",
      "metadata": {
        "id": "Yf28jEDc8_0X"
      },
      "source": [
        "#4. To reverse a string (display the alphabets of a string in reverse order)\n",
        "Name=str(input(print(\"Please enter a string:\")))\n",
        "for i in range((len(Name)-1),-1,-1):   # len(Name)-1 will give the position index of last element\n",
        "    print(Name[i])\n",
        "        "
      ],
      "execution_count": null,
      "outputs": []
    },
    {
      "cell_type": "code",
      "metadata": {
        "id": "TmE1S4u09COp"
      },
      "source": [
        "#5. To search for a given element in an array. Also determine the number of times, the element has appeared in the array\n",
        "print(\"Please enter the 10 elements of the array:\")\n",
        "arr = {}\n",
        "for i in range(0,10):\n",
        "  arr[i]=int(input())\n",
        "num=int(input(\"Please enter the Element to be Searched: \"))\n",
        "s=0\n",
        "for i in range(0,10):\n",
        "  if arr[i]==num:\n",
        "     s=s+1\n",
        "if s==0:\n",
        "   print(\"Element not found\")\n",
        "else:\n",
        "   print(\"Element found\",s,\"times\")   "
      ],
      "execution_count": null,
      "outputs": []
    },
    {
      "cell_type": "code",
      "metadata": {
        "id": "8qOku0UD9ETs"
      },
      "source": [
        "#6. To determine the smallest and largest element in an array of ten integer elements\n",
        "print(\"Please enter the 10 elements of the array:\")\n",
        "arr = []\n",
        "for i in range(0,10,1):\n",
        "  a=int(input())\n",
        "  arr.append(a)\n",
        "print(arr) \n",
        "print(\"Smallest number : \",min(arr),\"\\nLargest number : \",max(arr))"
      ],
      "execution_count": null,
      "outputs": []
    },
    {
      "cell_type": "code",
      "metadata": {
        "id": "038nve559EfV"
      },
      "source": [
        "#7. To generate first five terms of a Fibonacci sequence (store all the terms of the Fibonacci sequence in an array) \n",
        "arr=[0,1]\n",
        "a=0\n",
        "b=1\n",
        "terms=int(input(print(\"Number of terms : \")))\n",
        "num=terms-2\n",
        "print(\"The first\",terms,\"terms of a fibonacci sequence is generated as:\")\n",
        "print(a)\n",
        "print(b)\n",
        "while num>0:\n",
        "  for c in range(0,num):\n",
        "    c=a+b\n",
        "    print(c)\n",
        "    arr.append(c)\n",
        "    a=b\n",
        "    b=c\n",
        "    num=num-1\n",
        "print(\"Stored Fibonacci sequence is as follows: \",arr)"
      ],
      "execution_count": null,
      "outputs": []
    }
  ]
}