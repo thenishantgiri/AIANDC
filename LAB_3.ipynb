{
  "nbformat": 4,
  "nbformat_minor": 0,
  "metadata": {
    "colab": {
      "name": "LAB 3.ipynb",
      "provenance": [],
      "collapsed_sections": []
    },
    "kernelspec": {
      "name": "python3",
      "display_name": "Python 3"
    },
    "language_info": {
      "name": "python"
    }
  },
  "cells": [
    {
      "cell_type": "code",
      "metadata": {
        "id": "294lf8bB9a2b"
      },
      "source": [
        "#To search a given element in the list and also specify the number of times the element has appeared in the list.\n",
        "LIST1=[]\n",
        "print(\"Please enter the elements of the List: \")\n",
        "for i in range(0,10,1):\n",
        "  a=int(input())\n",
        "  LIST1.append(a) \n",
        "LIST2=LIST1.copy()\n",
        "print(LIST2)\n",
        "count=0\n",
        "num=int(input('Please enter the number to be searched: '))\n",
        " \n",
        "for X in LIST2:                           \n",
        "  if X==num:                           \n",
        "    count=count+1\n",
        "if count==0:\n",
        "  print(\"Element not found\")\n",
        "else:\n",
        "  print(\"Element found\", count, \"times\")"
      ],
      "execution_count": null,
      "outputs": []
    },
    {
      "cell_type": "code",
      "metadata": {
        "id": "9wkJ4nbY9dHS"
      },
      "source": [
        "#Create a list of ten integer elements. Remove all the odd elements from the list and retain only the even elements. Display the modified list.\n",
        "LIST1=[]  \n",
        "\n",
        "for i in range(0,10,1):\n",
        "  a=int(input())\n",
        "  LIST1.append(a)\n",
        "\n",
        "print(LIST1)\n",
        "\n",
        "\n",
        "for X in LIST1:\n",
        "  if X%2==0:\n",
        "    print(X)\n",
        "  else:\n",
        "    LIST1.remove(X)\n",
        "\n",
        "print(LIST1)"
      ],
      "execution_count": null,
      "outputs": []
    },
    {
      "cell_type": "code",
      "metadata": {
        "id": "a6L2uQpQ9bN-"
      },
      "source": [
        "#Create a list 'COLORS' which contains names of various colors such as \"red\", \"blue\" and \"green\". \n",
        "#Also display the following menu option to the user to perform any one of the following operations:\n",
        "# 1. ADD a new color, 2. REMOVE a color, 3. SEARCH for a given color and 4. SORT the colors in alphabetical order\n",
        "COLORS=[\"VIOLET\",\"INDIGO\",\"BLUE\",\"GREEN\",\"YELLOW\",\"ORANGE\",\"RED\"]\n",
        "print(COLORS)\n",
        "print(\"1. ADD a new color \\n2. REMOVE a color \\n3. SEARCH for a given color \\n4. SORT the colors in alphabetical order\")\n",
        "while True :\n",
        "  num=int(input('Choose operation(1/2/3/4): '))\n",
        "  if num==1:\n",
        "    a=input('Please enter the color to be inserted: ')\n",
        "    COLORS.append(a)\n",
        "    print(COLORS)\n",
        "  elif num==2:\n",
        "    b=input('Please enter the color to be removed: ')\n",
        "    COLORS.remove(b)\n",
        "    print(COLORS)\n",
        "  elif num==3:\n",
        "    c=input('Please enter the color to be searched: ')\n",
        "    if c in COLORS:\n",
        "      print(c,\"is in the list of COLORS\")\n",
        "    else :\n",
        "      print(c,\"is not in the list\")\n",
        "  elif num==4:\n",
        "    print(\"1.Arrange colors from A to Z \\n2.Arrange colors from Z to A\")\n",
        "    d=int(input('Choose the order of arrangement(1/2): '))\n",
        "    if d==1:\n",
        "      COLORS.sort(reverse=False) \n",
        "      print(COLORS)\n",
        "    elif d==2:\n",
        "      COLORS.sort(reverse=True) \n",
        "      print(COLORS) \n",
        "    else:\n",
        "      print(\"invalid selection\")  \n",
        "  else :\n",
        "    print(\"invalid input\")    \n",
        "  loop_break=input(print(\"Let's do another operation? (yes/no): \")) \n",
        "  if loop_break=='no':\n",
        "    break"
      ],
      "execution_count": null,
      "outputs": []
    },
    {
      "cell_type": "code",
      "metadata": {
        "id": "p_HPSlvi9beK"
      },
      "source": [
        "#Write a program to accept names of ten students and store them in a list and then sort the list in alphabetical order.\n",
        "list1= []\n",
        "print(\"Please enter the names of students:\")\n",
        "for i in range(1,11):\n",
        "  a=input()\n",
        "  list1.append(a) \n",
        "print(\"Sorted list of students: \",list1)  \n",
        "list2=list1.copy()\n",
        "list2.sort(reverse=False)\n",
        "print(\"Aranged list of students: \",list2)\n"
      ],
      "execution_count": null,
      "outputs": []
    }
  ]
}