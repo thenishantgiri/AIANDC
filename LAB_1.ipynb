{
  "nbformat": 4,
  "nbformat_minor": 0,
  "metadata": {
    "colab": {
      "name": "LAB 1.ipynb",
      "provenance": [],
      "collapsed_sections": []
    },
    "kernelspec": {
      "name": "python3",
      "display_name": "Python 3"
    },
    "language_info": {
      "name": "python"
    }
  },
  "cells": [
    {
      "cell_type": "code",
      "metadata": {
        "id": "EZiKlZuh7LoE"
      },
      "source": [
        "#1. To accept the ‘name’ of the user and print Welcome message\n",
        "name=input(print(\"Your name\"))\n",
        "print(\"Hello,\",name,\"\\nThis is Nishant Kumar Giri,\\nWelcoming you to the PYTHON PROGRAMMING \")"
      ],
      "execution_count": null,
      "outputs": []
    },
    {
      "cell_type": "code",
      "metadata": {
        "id": "TinA7Bl_7bzR"
      },
      "source": [
        "#2. To accept real (decimal) numbers from the user and print their addition.\n",
        "a=float(input(print(\"Please enter first number\")))\n",
        "b=float(input(print(\"Please enter second number\")))\n",
        "c=a+b\n",
        "print(\"The sum of\",a,\"and\",b,\"is\\n\",c)"
      ],
      "execution_count": null,
      "outputs": []
    },
    {
      "cell_type": "code",
      "metadata": {
        "id": "3q-U48NM7jcu"
      },
      "source": [
        "#3. To accept the value of current temperature from the user.\n",
        "#If T > 27 ⁰C, print weather is HOT, If T = 27 ⁰C, print weather is COMFORTABLE and If T < 27 ⁰C, print weather is COOL\n",
        " \n",
        "T=int(input(print(\"Current temperature\")))\n",
        " \n",
        "if T>27:\n",
        "  print(\"Weather is HOT\")\n",
        " \n",
        "elif T==27:\n",
        "  print(\"Weather is COMFORTABLE\")\n",
        " \n",
        "else:\n",
        "  print(\"Weather is COOL\")"
      ],
      "execution_count": null,
      "outputs": []
    },
    {
      "cell_type": "code",
      "metadata": {
        "id": "yjaqBg9h7opu"
      },
      "source": [
        "#4. To design a SIMPLE CALCULATOR\n",
        "print(\"SELECT OPERATION \\n1.Addition \\n2.Subtraction \\n3.Multiplication \\n4.Division\")\n",
        "while True:\n",
        "  O=input(print(\"Enter choice(1/2/3/4)\"))\n",
        "  if O in ('1','2','3','4'):\n",
        "    A=float(input(print(\"Please enter first number:\")))\n",
        "    B=float(input(print(\"Please enter second number:\")))\n",
        "    a=A+B\n",
        "    s=A-B\n",
        "    m=A*B\n",
        "    d=A/B\n",
        "    if O== '1':\n",
        "      print(A,\"+\",B,\"=\",a)\n",
        "    elif O== '2':\n",
        "      print(A,\"-\",B,\"=\",s)\n",
        "    elif O== '3':\n",
        "      print(A,\"*\",B,\"=\",m)\n",
        "    elif O== '4':\n",
        "      print(A,\"÷\",B,\"=\",d)\n",
        "\n",
        "  next_calculation = input(\"Let's do next calculation? (yes/no): \")\n",
        "  if next_calculation == \"no\":\n",
        "          break\n",
        "  else:\n",
        "        print(\"Invalid Input\")"
      ],
      "execution_count": null,
      "outputs": []
    },
    {
      "cell_type": "code",
      "metadata": {
        "id": "Ey_toaOF7sAw"
      },
      "source": [
        "#5. To find the greatest of three integers\n",
        "a=int(input(print(\"Please enter first integer\")))\n",
        "b=int(input(print(\"Please enter second integer\")))\n",
        "c=int(input(print(\"Please enter third enetger\")))\n",
        "if a>b and a>b:\n",
        "  print(a,\"is greatest integer\")\n",
        "elif b>a and b>c:\n",
        "  print(b,\"is greatest integer\")\n",
        "else:\n",
        "  print(c,\"is greatest integer\")"
      ],
      "execution_count": null,
      "outputs": []
    },
    {
      "cell_type": "code",
      "metadata": {
        "id": "YzwQ6sR-7vGz"
      },
      "source": [
        "#6. To swap two numbers\n",
        "a=float(input(print(\"a =\")))\n",
        "b=float(input(print(\"b =\")))\n",
        "(a,b)=(b,a)\n",
        "print(\"After swapping the number\")\n",
        "print(\"a =\\n\",a)\n",
        "print(\"b =\\n\",b)"
      ],
      "execution_count": null,
      "outputs": []
    },
    {
      "cell_type": "code",
      "metadata": {
        "id": "f9ZOkvxu7yg-"
      },
      "source": [
        "#7. To check whether a number is even or odd\n",
        "while True:\n",
        "  I=int(input(print(\"Please enter the number\")))\n",
        "  if I%2==0:\n",
        "    print(\"Number is even\")\n",
        "  else:\n",
        "    print(\"Number is odd\")\n",
        "  next=input(print(\"Want to chrck for another number(yes/no):\"))\n",
        "  if next==\"no\":\n",
        "    break"
      ],
      "execution_count": null,
      "outputs": []
    },
    {
      "cell_type": "code",
      "metadata": {
        "id": "vSH69Fh771Ur"
      },
      "source": [
        "#8. To find the sum of first ten natural  numbers\n",
        "s=0\n",
        "num=10\n",
        "for i in range(1,num+1):\n",
        "     s=s+i\n",
        "print(\"Sum is\",s)"
      ],
      "execution_count": null,
      "outputs": []
    },
    {
      "cell_type": "code",
      "metadata": {
        "id": "9bWNS5Te74ed"
      },
      "source": [
        "#9. To generate first five of A.P. series and also determine the sum of first five terms of the A.P. series\n",
        "num=5\n",
        "a=int(input(print(\"Please enter the first term of A.P series\")))\n",
        "b=int(input(print(\"Please enter the common difference of A.P series\")))\n",
        "i=1\n",
        "s=0\n",
        "print(\"The A.P series is\")\n",
        "while i<=num: \n",
        "    print(a)\n",
        "    s=s+a\n",
        "    a=a+b \n",
        "    i=i+1\n",
        "print(\"sum is\",s)"
      ],
      "execution_count": null,
      "outputs": []
    },
    {
      "cell_type": "code",
      "metadata": {
        "id": "7MrlYqpa77Km"
      },
      "source": [
        "#10. To generate first five of G.P. series and also determine the sum of first five terms of the G.P. series\n",
        "num=5\n",
        "a=int(input(print(\"Please enter the first term of G.P series\")))\n",
        "c=int(input(print(\"Please enter the common ratio of G.P series\")))\n",
        "i=1\n",
        "s=0\n",
        "print(\"The A.P series is\")\n",
        "while i<=num: \n",
        "    print(a)\n",
        "    s=s+a\n",
        "    a=a*c\n",
        "    i=i+1\n",
        "print(\"sum is\",s)"
      ],
      "execution_count": null,
      "outputs": []
    },
    {
      "cell_type": "code",
      "metadata": {
        "id": "PusJ_Z3E79wK"
      },
      "source": [
        "#11. To check whether a number is prime or not\n",
        "a=int(input(print(\"Please enter an integer: \")))\n",
        "s=0\n",
        "for i in range(2,a):\n",
        "  if a%i ==0:\n",
        "    s=1\n",
        "    break\n",
        "\n",
        "if s==1:\n",
        "    print(\"Number is not Prime\")\n",
        "else:\n",
        "    print(\"Number is Prime\")  \n",
        "           "
      ],
      "execution_count": null,
      "outputs": []
    },
    {
      "cell_type": "code",
      "metadata": {
        "id": "saUxtqkc8Aoy"
      },
      "source": [
        "#12. To determine the factorial of a number\n",
        "num=int(input(print(\"Please enter an integer\")))\n",
        "a=num\n",
        "fact=1\n",
        "while a>1:\n",
        "  fact=fact*a\n",
        "  a=a-1\n",
        "print(\"Factorial of\",num,\"is\",fact)  "
      ],
      "execution_count": null,
      "outputs": []
    },
    {
      "cell_type": "code",
      "metadata": {
        "id": "rE5RttBS8DGx"
      },
      "source": [
        "#13. To generate first five terms of Fibonacci sequence\n",
        "a=0\n",
        "b=1\n",
        "num=3\n",
        "print(\"The first five terms of a fibonacci sequence is generated as:\")\n",
        "print(a)\n",
        "print(b)\n",
        "while num>0:\n",
        "  c=a+b\n",
        "  print(c)\n",
        "  a=b\n",
        "  b=c\n",
        "  num=num-1"
      ],
      "execution_count": null,
      "outputs": []
    },
    {
      "cell_type": "code",
      "metadata": {
        "id": "3knAESrW8Fm4"
      },
      "source": [
        "#14. To determine the roots of a quadratic equation\n",
        "a = int(input(print(\"Please enter coefficient 'a' of the quadratic equation: \")))\n",
        "b = int(input(print(\"Please enter coefficient 'b' of the quadratic equation: \")))\n",
        "c = int(input(print(\"Please enter coefficient 'c' of the quadratic equation: \")))\n",
        "\n",
        "D = (b**2)-(4*a*c)  \n",
        "\n",
        "if D<0:\n",
        "   print(\"Roots are Complex\")\n",
        "elif D==0:\n",
        "   print(\"Roots are Real and Equal\")\n",
        "else:\n",
        "   print(\"Roots are Real and Distinct\")   \n",
        "\n",
        "import cmath\n",
        "D1= cmath.sqrt(D) \n",
        "\n",
        "root1= (-b+D1)/(2*a)\n",
        "root2= (-b-D1)/(2*a)\n",
        "\n",
        "print(\"The roots of the equation are x=\",root1, \"and x=\",root2)"
      ],
      "execution_count": null,
      "outputs": []
    },
    {
      "cell_type": "code",
      "metadata": {
        "id": "W2h8EsxN8NUr"
      },
      "source": [
        "# To determine M^N\n",
        "M=int(input(print(\"Please enter the base value:\")))\n",
        "N=int(input(print(\"Please enter the power:\")))\n",
        "value=M**N\n",
        "print(M,\"raise to the power is\",N,\"\\n\",M,\"^\",N,\"=\",value)"
      ],
      "execution_count": null,
      "outputs": []
    }
  ]
}