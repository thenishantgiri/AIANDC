{
  "nbformat": 4,
  "nbformat_minor": 5,
  "metadata": {
    "kernelspec": {
      "display_name": "Python 3 (ipykernel)",
      "language": "python",
      "name": "python3"
    },
    "language_info": {
      "codemirror_mode": {
        "name": "ipython",
        "version": 3
      },
      "file_extension": ".py",
      "mimetype": "text/x-python",
      "name": "python",
      "nbconvert_exporter": "python",
      "pygments_lexer": "ipython3",
      "version": "3.9.7"
    },
    "colab": {
      "name": "LAB 12.ipynb",
      "provenance": [],
      "collapsed_sections": []
    }
  },
  "cells": [
    {
      "cell_type": "code",
      "metadata": {
        "id": "94b28a88"
      },
      "source": [
        "#PROGRAM 1 - SUM OF FIRST 10 NATURAL NUMBERS\n",
        "class Number():\n",
        "    def __init__(self, n=0):\n",
        "        self.s = n\n",
        "        \n",
        "    def natural(self):\n",
        "        i=1\n",
        "        while i<=10:\n",
        "            self.s = self.s + i\n",
        "            i = i + 1\n",
        "        return self.s\n",
        "        \n",
        "n = Number()\n",
        "print(n.natural())\n"
      ],
      "id": "94b28a88",
      "execution_count": null,
      "outputs": []
    },
    {
      "cell_type": "code",
      "metadata": {
        "id": "63d2bb1e"
      },
      "source": [
        "#PROGRAM 2 - TO FIND THE FACTORIAL OF A NUMBER\n",
        "class Fac:\n",
        "    def __init__(self, n = 0):\n",
        "        self.s = n\n",
        "    def Factorial(self):\n",
        "        fac=1\n",
        "        i = self.s\n",
        "        while i!=1:\n",
        "            fac*=i\n",
        "            i-=1\n",
        "        return fac\n",
        "n1 = Fac()\n",
        "n1.init(4)\n",
        "print(n1.Factorial())"
      ],
      "id": "63d2bb1e",
      "execution_count": null,
      "outputs": []
    },
    {
      "cell_type": "code",
      "metadata": {
        "id": "0be06dec"
      },
      "source": [
        "#PROGRAM 3 - TO IMPLEMENT A SIMPLE CALCULATOR\n",
        "class Calc:\n",
        "    def __init__(self, x = 0, y = 0):\n",
        "        self.a = x\n",
        "        self.b = y\n",
        "    def add(self):\n",
        "        print(self.a+self.b)\n",
        "    def sub(self):\n",
        "        if(self.a>self.b):\n",
        "            print(self.a-self.b)\n",
        "        else:\n",
        "            print(self.b-self.a)\n",
        "    def multiply(self):\n",
        "        print(self.a*self.b)\n",
        "    def divide(self):\n",
        "        print(self.a/self.b)\n",
        "        \n",
        "n1 = Calc()\n",
        "n1.init(5,8)\n",
        "n1.add()\n",
        "n1.sub()\n",
        "n1.multiply()\n",
        "n1.divide()"
      ],
      "id": "0be06dec",
      "execution_count": null,
      "outputs": []
    },
    {
      "cell_type": "code",
      "metadata": {
        "id": "59608ecf"
      },
      "source": [
        "#PROGRAM 4 - INHERITANCE\n",
        "class Initialize:\n",
        "    def __init__(self, x = 0, y = 0):\n",
        "        self.a = x\n",
        "        self.b = y\n",
        "        \n",
        "class Add(Initialize):\n",
        "    def __init__(self, x = 0, y = 0):\n",
        "        super().init(x,y)\n",
        "    def add(self):\n",
        "        print(self.a+self.b)\n",
        "        \n",
        "class Calc(Add):\n",
        "    def __init__(self, x = 0, y = 0):\n",
        "        super().init(x,y)\n",
        "    def add(self):\n",
        "        super().add()\n",
        "    def sub(self):\n",
        "        if(self.a>self.b):\n",
        "            print(self.a-self.b)\n",
        "        else:\n",
        "            print(self.b-self.a)\n",
        "        \n",
        "n1 = Calc()\n",
        "n1.init(5,8)\n",
        "n1.add()\n",
        "n1.sub()"
      ],
      "id": "59608ecf",
      "execution_count": null,
      "outputs": []
    },
    {
      "cell_type": "code",
      "metadata": {
        "id": "88f863c5"
      },
      "source": [
        ""
      ],
      "id": "88f863c5",
      "execution_count": null,
      "outputs": []
    }
  ]
}