{
  "nbformat": 4,
  "nbformat_minor": 5,
  "metadata": {
    "kernelspec": {
      "display_name": "Python 3 (ipykernel)",
      "language": "python",
      "name": "python3"
    },
    "language_info": {
      "codemirror_mode": {
        "name": "ipython",
        "version": 3
      },
      "file_extension": ".py",
      "mimetype": "text/x-python",
      "name": "python",
      "nbconvert_exporter": "python",
      "pygments_lexer": "ipython3",
      "version": "3.8.8"
    },
    "colab": {
      "name": "LAB 11.ipynb",
      "provenance": [],
      "collapsed_sections": []
    }
  },
  "cells": [
    {
      "cell_type": "code",
      "metadata": {
        "colab": {
          "base_uri": "https://localhost:8080/",
          "height": 592
        },
        "id": "694a5fec",
        "outputId": "f0308fcd-19ce-4a30-a2e0-46f3aee3dffb"
      },
      "source": [
        "!pip install pomegranate"
      ],
      "id": "694a5fec",
      "execution_count": 1,
      "outputs": [
        {
          "output_type": "stream",
          "name": "stdout",
          "text": [
            "Collecting pomegranate\n",
            "  Downloading pomegranate-0.14.7.tar.gz (4.3 MB)\n",
            "\u001b[K     |████████████████████████████████| 4.3 MB 6.8 MB/s \n",
            "\u001b[?25h  Installing build dependencies ... \u001b[?25l\u001b[?25hdone\n",
            "  Getting requirements to build wheel ... \u001b[?25l\u001b[?25hdone\n",
            "    Preparing wheel metadata ... \u001b[?25l\u001b[?25hdone\n",
            "Requirement already satisfied: pyyaml in /usr/local/lib/python3.7/dist-packages (from pomegranate) (3.13)\n",
            "Requirement already satisfied: scipy>=0.17.0 in /usr/local/lib/python3.7/dist-packages (from pomegranate) (1.4.1)\n",
            "Requirement already satisfied: joblib>=0.9.0b4 in /usr/local/lib/python3.7/dist-packages (from pomegranate) (1.1.0)\n",
            "Collecting numpy>=1.20.0\n",
            "  Using cached numpy-1.21.4-cp37-cp37m-manylinux_2_12_x86_64.manylinux2010_x86_64.whl (15.7 MB)\n",
            "Requirement already satisfied: networkx>=2.4 in /usr/local/lib/python3.7/dist-packages (from pomegranate) (2.6.3)\n",
            "Building wheels for collected packages: pomegranate\n",
            "  Building wheel for pomegranate (PEP 517) ... \u001b[?25l\u001b[?25hdone\n",
            "  Created wheel for pomegranate: filename=pomegranate-0.14.7-cp37-cp37m-linux_x86_64.whl size=14949227 sha256=2c46cc19fd16b1fbd8c70703eaf47456bfc4f83e0a5124606aa6f7ade51b6871\n",
            "  Stored in directory: /root/.cache/pip/wheels/02/0a/89/e53c61d6cd9edc5d7f1b31070038ba0653f8f48b096cd46893\n",
            "Successfully built pomegranate\n",
            "Installing collected packages: numpy, pomegranate\n",
            "  Attempting uninstall: numpy\n",
            "    Found existing installation: numpy 1.19.5\n",
            "    Uninstalling numpy-1.19.5:\n",
            "      Successfully uninstalled numpy-1.19.5\n",
            "\u001b[31mERROR: pip's dependency resolver does not currently take into account all the packages that are installed. This behaviour is the source of the following dependency conflicts.\n",
            "yellowbrick 1.3.post1 requires numpy<1.20,>=1.16.0, but you have numpy 1.21.4 which is incompatible.\n",
            "datascience 0.10.6 requires folium==0.2.1, but you have folium 0.8.3 which is incompatible.\n",
            "albumentations 0.1.12 requires imgaug<0.2.7,>=0.2.5, but you have imgaug 0.2.9 which is incompatible.\u001b[0m\n",
            "Successfully installed numpy-1.21.4 pomegranate-0.14.7\n"
          ]
        },
        {
          "output_type": "display_data",
          "data": {
            "application/vnd.colab-display-data+json": {
              "pip_warning": {
                "packages": [
                  "numpy"
                ]
              }
            }
          },
          "metadata": {}
        }
      ]
    },
    {
      "cell_type": "code",
      "metadata": {
        "id": "30686187"
      },
      "source": [
        "#BAYESIAN NETWORK 1\n",
        "import math\n",
        "from pomegranate import *\n",
        "\n",
        "rain = DiscreteDistribution({\"T\":0.4,\"F\":0.6})\n",
        "waterlog = ConditionalProbabilityTable([[\"T\",\"T\",0.8],[\"T\",\"F\",0.2],[\"F\",\"T\",0.3],[\"F\",\"F\",0.7]],[rain])\n",
        "traffic = ConditionalProbabilityTable([[\"T\",\"T\",0.6],[\"T\",\"F\",0.4],[\"F\",\"T\",0.2],[\"F\",\"F\",0.8]],[rain])\n",
        "\n",
        "r = Node(rain, \"RAIN\")\n",
        "w = Node(waterlog, \"WATERLOG\")\n",
        "t = Node(traffic, \"TRAFFIC\")\n",
        "\n",
        "network1 = BayesianNetwork(\"Network1\")\n",
        "network1.add_states(r,w,t)\n",
        "network1.add_edge(r,w)\n",
        "network1.add_edge(r,t)\n",
        "\n",
        "network1.bake()\n",
        "\n",
        "print(network1.probability([[\"T\",\"T\",\"T\"],[\"T\",\"T\",\"F\"],[\"T\",\"F\",\"T\"],[\"T\",\"F\",\"F\"],[\"F\",\"T\",\"T\"],[\"F\",\"T\",\"F\"],[\"F\",\"F\",\"T\"],[\"F\",\"F\",\"F\"]]))"
      ],
      "id": "30686187",
      "execution_count": null,
      "outputs": []
    },
    {
      "cell_type": "code",
      "metadata": {
        "id": "5afe75ad"
      },
      "source": [
        "#BAYESIAN NETWORK 2\n",
        "import math\n",
        "from pomegranate import *\n",
        "\n",
        "rain = DiscreteDistribution({\"T\":0.4,\"F\":0.6})\n",
        "traffic = ConditionalProbabilityTable([[\"T\",\"T\",0.7],[\"T\",\"F\",0.3],[\"F\",\"T\",0.2],[\"F\",\"F\",0.8]],[rain])\n",
        "college = ConditionalProbabilityTable([[\"T\",\"T\",0.6],[\"T\",\"F\",0.4],[\"F\",\"T\",0.3],[\"F\",\"F\",0.7]],[traffic])\n",
        "\n",
        "r = Node(rain, \"RAIN\")\n",
        "t = Node(traffic, \"TRAFFIC\")\n",
        "c = Node(college,\"COLLEGE\")\n",
        "\n",
        "network1 = BayesianNetwork(\"Network1\")\n",
        "network1.add_states(r,t,c)\n",
        "network1.add_edge(r,t)\n",
        "network1.add_edge(t,c)\n",
        "\n",
        "network1.bake()\n",
        "\n",
        "print(network1.probability([[\"T\",\"T\",\"T\"],[\"T\",\"T\",\"F\"],[\"T\",\"F\",\"T\"],[\"T\",\"F\",\"F\"],[\"F\",\"T\",\"T\"],[\"F\",\"T\",\"F\"],[\"F\",\"F\",\"T\"],[\"F\",\"F\",\"F\"]]))"
      ],
      "id": "5afe75ad",
      "execution_count": null,
      "outputs": []
    },
    {
      "cell_type": "code",
      "metadata": {
        "id": "09d62b47"
      },
      "source": [
        "#BAYESIAN NETWORK 3\n",
        "import math\n",
        "from pomegranate import *\n",
        "\n",
        "rain = DiscreteDistribution({\"T\":0.4,\"F\":0.6})\n",
        "waterlog = ConditionalProbabilityTable([[\"T\",\"T\",0.8],[\"T\",\"F\",0.2],[\"F\",\"T\",0.4],[\"F\",\"F\",0.6]],[rain])\n",
        "traffic = ConditionalProbabilityTable([[\"T\",\"T\",0.7],[\"T\",\"F\",0.3],[\"F\",\"T\",0.2],[\"F\",\"F\",0.8]],[rain])\n",
        "college = ConditionalProbabilityTable([[\"T\",\"T\",\"T\",0.8],[\"T\",\"T\",\"F\",0.2],[\"T\",\"F\",\"T\",0.5],[\"T\",\"F\",\"F\",0.5],[\"F\",\"T\",\"T\",0.6],[\"F\",\"T\",\"F\",0.4],[\"F\",\"F\",\"T\",0.3],[\"F\",\"F\",\"F\",0.7]],[traffic,waterlog])\n",
        "\n",
        "r = Node(rain, \"RAIN\")\n",
        "w = Node(waterlog, \"WATERLOG\")\n",
        "t = Node(traffic, \"TRAFFIC\")\n",
        "c = Node(college, \"COLLEGE\")\n",
        "\n",
        "network1 = BayesianNetwork(\"Network1\")\n",
        "network1.add_states(r,w,t,c)\n",
        "network1.add_edge(r,w)\n",
        "network1.add_edge(r,t)\n",
        "network1.add_edge(w,c)\n",
        "network1.add_edge(t,c)\n",
        "\n",
        "network1.bake()\n",
        "\n",
        "print(network1.probability([[\"T\",\"T\",\"T\",\"T\"],[\"T\",\"T\",\"T\",\"F\"],[\"T\",\"T\",\"F\",\"T\"],[\"T\",\"T\",\"F\",\"F\"],[\"T\",\"F\",\"T\",\"T\"],[\"T\",\"F\",\"T\",\"F\"],[\"T\",\"F\",\"F\",\"T\"],[\"T\",\"F\",\"F\",\"F\"],[\"F\",\"T\",\"T\",\"T\"],[\"F\",\"T\",\"T\",\"F\"],[\"F\",\"T\",\"F\",\"T\"],[\"F\",\"T\",\"F\",\"F\"],[\"F\",\"F\",\"T\",\"T\"],[\"F\",\"F\",\"T\",\"F\"],[\"F\",\"F\",\"F\",\"T\"],[\"F\",\"F\",\"F\",\"F\"]]))"
      ],
      "id": "09d62b47",
      "execution_count": null,
      "outputs": []
    },
    {
      "cell_type": "code",
      "metadata": {
        "id": "8d87628c"
      },
      "source": [
        "#BAYESIAN NETWORK 4\n",
        "import math\n",
        "from pomegranate import *\n",
        "\n",
        "burglary = DiscreteDistribution({\"T\":0.002,\"F\":0.998})\n",
        "fire = DiscreteDistribution({\"T\":0.001,\"F\":0.999})\n",
        "alarm = ConditionalProbabilityTable([[\"T\",\"T\",\"T\",0.94],[\"T\",\"T\",\"F\",0.06],[\"T\",\"F\",\"T\",0.95],[\"T\",\"F\",\"F\",0.04],[\"F\",\"T\",\"T\",0.69],[\"F\",\"T\",\"F\",0.69],[\"F\",\"F\",\"T\",0.999],[\"F\",\"F\",\"F\",0.999]],[burglary,fire])\n",
        "neighbour = ConditionalProbabilityTable([[\"T\",\"T\",0.91],[\"T\",\"F\",0.09],[\"F\",\"T\",0.05],[\"F\",\"F\",0.95]],[alarm])\n",
        "message = ConditionalProbabilityTable([[\"T\",\"T\",0.75],[\"T\",\"F\",0.25],[\"F\",\"T\",0.02],[\"F\",\"F\",0.98]],[alarm])\n",
        "\n",
        "b = Node(burglary,\"BURGLARY\")\n",
        "c = Node(fire,\"FIRE\")\n",
        "a = Node(alarm,\"ALARM\")\n",
        "n = Node(neighbour,\"NEIGHBOUR\")\n",
        "m = Node(message,\"MESSAGE\")\n",
        "\n",
        "network4 = BayesianNetwork(\"Network4\")\n",
        "network4.add_states(b,c,a,n,m)\n",
        "network4.add_edge(b,a)\n",
        "network4.add_edge(c,a)\n",
        "network4.add_edge(a,n)\n",
        "network4.add_edge(a,m)\n",
        "network4.bake()\n",
        "\n",
        "print(network4.probability([[\"T\",\"T\",\"T\",\"T\",\"T\"],[\"T\",\"T\",\"T\",\"T\",\"F\"],[\"T\",\"T\",\"T\",\"F\",\"T\"],[\"T\",\"T\",\"T\",\"F\",\"F\"],[\"T\",\"T\",\"F\",\"T\",\"T\"],[\"T\",\"T\",\"F\",\"T\",\"F\"],[\"T\",\"T\",\"F\",\"F\",\"T\"],[\"T\",\"T\",\"F\",\"F\",\"F\"],[\"T\",\"F\",\"T\",\"T\",\"T\"],[\"T\",\"F\",\"T\",\"T\",\"F\"],[\"T\",\"F\",\"T\",\"F\",\"T\"],[\"T\",\"F\",\"T\",\"F\",\"F\"],[\"T\",\"F\",\"F\",\"T\",\"T\"],[\"T\",\"F\",\"F\",\"T\",\"F\"],[\"T\",\"F\",\"F\",\"F\",\"T\"],[\"T\",\"F\",\"F\",\"F\",\"F\"],[\"F\",\"T\",\"T\",\"T\",\"T\"],[\"F\",\"T\",\"T\",\"T\",\"F\"],[\"F\",\"T\",\"T\",\"F\",\"T\"],[\"F\",\"T\",\"T\",\"F\",\"F\"],[\"F\",\"T\",\"F\",\"T\",\"T\"],[\"F\",\"T\",\"F\",\"T\",\"F\"],[\"F\",\"T\",\"F\",\"F\",\"T\"],[\"F\",\"T\",\"F\",\"F\",\"F\"],[\"F\",\"F\",\"T\",\"T\",\"T\"],[\"F\",\"F\",\"T\",\"T\",\"F\"],[\"F\",\"F\",\"T\",\"F\",\"T\"],[\"F\",\"F\",\"T\",\"F\",\"F\"],[\"F\",\"F\",\"F\",\"T\",\"T\"],[\"F\",\"F\",\"F\",\"T\",\"F\"],[\"F\",\"F\",\"F\",\"F\",\"T\"],[\"F\",\"F\",\"F\",\"F\",\"F\"]]))"
      ],
      "id": "8d87628c",
      "execution_count": null,
      "outputs": []
    },
    {
      "cell_type": "code",
      "metadata": {
        "colab": {
          "base_uri": "https://localhost:8080/"
        },
        "id": "b5331582",
        "outputId": "5480b062-f432-496e-a8f6-a38ea9e66c37"
      },
      "source": [
        "#BAYESIAN NETWORK 5\n",
        "import math\n",
        "from pomegranate import *\n",
        "\n",
        "blood_pressure = DiscreteDistribution({\"T\":0.2,\"F\":0.8})\n",
        "diabetes = DiscreteDistribution({\"T\":0.5,\"F\":0.5})\n",
        "heart_disease = ConditionalProbabilityTable([[\"T\",\"T\",\"T\",0.8],[\"T\",\"T\",\"F\",0.2],[\"T\",\"F\",\"T\",0.6],[\"T\",\"F\",\"F\",0.5],[\"F\",\"T\",\"T\",0.4],[\"F\",\"T\",\"F\",0.6],[\"F\",\"F\",\"T\",0.1],[\"F\",\"F\",\"F\",0.9]],[blood_pressure,diabetes])\n",
        "cardiac_arrest = ConditionalProbabilityTable([[\"T\",\"T\",0.6],[\"T\",\"F\",0.4],[\"F\",\"T\",0.2],[\"F\",\"F\",0.8]],[heart_disease]) \n",
        "\n",
        "b = Node(blood_pressure,\"BLOOD PRESSURE\")\n",
        "d = Node(diabetes,\"DIABETES\")\n",
        "h = Node(heart_disease,\"HEART DISEASE\")\n",
        "c = Node(cardiac_arrest,\"CARDIAC ARREST\")\n",
        "\n",
        "network5 = BayesianNetwork(\"Network5\")\n",
        "network5.add_states(b,d,h,c)\n",
        "network5.add_edge(b,h)\n",
        "network5.add_edge(d,h)\n",
        "network5.add_edge(h,c)\n",
        "network5.bake()\n",
        "\n",
        "print(network5.probability([[\"T\",\"T\",\"T\",\"T\"],[\"T\",\"T\",\"T\",\"F\"],[\"T\",\"T\",\"F\",\"T\"],[\"T\",\"T\",\"F\",\"F\"],[\"T\",\"F\",\"T\",\"T\"],[\"T\",\"F\",\"T\",\"F\"],[\"T\",\"F\",\"F\",\"T\"],[\"T\",\"F\",\"F\",\"F\"],[\"F\",\"T\",\"T\",\"T\"],[\"F\",\"T\",\"T\",\"F\"],[\"F\",\"T\",\"F\",\"T\"],[\"F\",\"T\",\"F\",\"F\"],[\"F\",\"F\",\"T\",\"T\"],[\"F\",\"F\",\"T\",\"F\"],[\"F\",\"F\",\"F\",\"T\"],[\"F\",\"F\",\"F\",\"F\"]]))"
      ],
      "id": "b5331582",
      "execution_count": 2,
      "outputs": [
        {
          "output_type": "stream",
          "name": "stdout",
          "text": [
            "[0.048 0.032 0.004 0.016 0.036 0.024 0.01  0.04  0.096 0.064 0.048 0.192\n",
            " 0.024 0.016 0.072 0.288]\n"
          ]
        }
      ]
    },
    {
      "cell_type": "code",
      "metadata": {
        "id": "mXZk-cMKDMDV"
      },
      "source": [
        "[]"
      ],
      "id": "mXZk-cMKDMDV",
      "execution_count": null,
      "outputs": []
    }
  ]
}