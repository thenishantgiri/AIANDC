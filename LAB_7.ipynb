{
  "nbformat": 4,
  "nbformat_minor": 0,
  "metadata": {
    "colab": {
      "name": "LAB 7.ipynb",
      "provenance": [],
      "collapsed_sections": []
    },
    "kernelspec": {
      "name": "python3",
      "display_name": "Python 3"
    },
    "language_info": {
      "name": "python"
    }
  },
  "cells": [
    {
      "cell_type": "code",
      "metadata": {
        "id": "hCON_nVh_FsI"
      },
      "source": [
        "#Program 1 (Tree1): To move from A to G , To move from A to E , To move from B to G , To move from B to E  \n",
        "TREE = ['A', 'B', 'C', 'D', 'E', 'F', 'G']   \n",
        "def Bidirectional(TREE,n,m):\n",
        "  FORWARD = []            \n",
        "  BACKWARD =[]            \n",
        "  s=0                   \n",
        "  i=n                      \n",
        "  j=m                    \n",
        "  while j>=i:                \n",
        "     FORWARD.append(TREE[i]) \n",
        "     i=i+1                 \n",
        "     BACKWARD.append(TREE[j])              \n",
        "     j=j-1                      \n",
        "     print(\"FORWARD PATH\")    \n",
        "     for n in FORWARD:\n",
        "         print(n)\n",
        "     print(\"BACKWARD PATH\") \n",
        "     for m in BACKWARD:\n",
        "         print(m)\n",
        "     print(\"\\n\")         \n",
        "     L1=len(FORWARD)       \n",
        "     L2=len(BACKWARD)      \n",
        "     if FORWARD[L1-1]==BACKWARD[L2-1]:              \n",
        "        print(\"COMMON POINT REACHED! SUCCESSFUL!\")   \n",
        "        print(\"COMMON POINT IS \", FORWARD[L1-1])  \n",
        "        s=1                                              \n",
        "        break\n",
        "  if s==0:                                              \n",
        "    print(\"SEARCH UNSUCCESSFUL! COMMON POINT NOT REACHED\") \n",
        "print(\"\\n\\nTo move from A to G\\n\\n\")\n",
        "Bidirectional(TREE,0,6)\n",
        "print(\"\\n\\nTo move from A to E\\n\\n\")\n",
        "Bidirectional(TREE,0,4)\n",
        "print(\"\\n\\nTo move from B to G\\n\\n\")\n",
        "Bidirectional(TREE,1,6)\n",
        "print(\"\\n\\nTo move from B to E\\n\\n\")\n",
        "Bidirectional(TREE,1,4)"
      ],
      "execution_count": null,
      "outputs": []
    },
    {
      "cell_type": "code",
      "metadata": {
        "id": "Esdf0Ef6_Ill"
      },
      "source": [
        "#Program 2 (Tree 2): \n",
        "#To move from S to K \n",
        "#To move from A to I\n",
        "TREE = ['S','A','B','C','D','G','H','E','F','I','K']   \n",
        "def Bidirectional(TREE,n,m):\n",
        "  FORWARD = []            \n",
        "  BACKWARD =[]            \n",
        "  s=0                   \n",
        "  i=n                      \n",
        "  j=m                    \n",
        "  while j>=i:                \n",
        "     FORWARD.append(TREE[i]) \n",
        "     i=i+1                 \n",
        "     BACKWARD.append(TREE[j])              \n",
        "     j=j-1                      \n",
        "     print(\"FORWARD PATH\")    \n",
        "     for n in FORWARD:\n",
        "         print(n)\n",
        "     print(\"BACKWARD PATH\") \n",
        "     for m in BACKWARD:\n",
        "         print(m)\n",
        "     print(\"\\n\")         \n",
        "     L1=len(FORWARD)       \n",
        "     L2=len(BACKWARD)      \n",
        "     if FORWARD[L1-1]==BACKWARD[L2-1]:              \n",
        "        print(\"COMMON POINT REACHED! SUCCESSFUL!\")   \n",
        "        print(\"COMMON POINT IS \", FORWARD[L1-1])  \n",
        "        s=1                                              \n",
        "        break\n",
        "  if s==0:                                              \n",
        "    print(\"SEARCH UNSUCCESSFUL! COMMON POINT NOT REACHED\") \n",
        "print(\"\\n\\nTo move from S to K\\n\\n\")\n",
        "Bidirectional(TREE,0,10)\n",
        "print(\"\\n\\nTo move from A to I\\n\\n\")\n",
        "Bidirectional(TREE,1,9)"
      ],
      "execution_count": null,
      "outputs": []
    },
    {
      "cell_type": "code",
      "metadata": {
        "id": "fU-vgXpC_MsM"
      },
      "source": [
        "#Program 3 (Tree 3): \n",
        "#To move from S to G \n",
        "#To move from A to H\n",
        "TREE = ['S','A', 'B', 'C', 'D', 'E', 'F', 'H','I','G']   \n",
        "def Bidirectional(TREE,n,m):\n",
        "  FORWARD = []            \n",
        "  BACKWARD =[]            \n",
        "  s=0                   \n",
        "  i=n                      \n",
        "  j=m                    \n",
        "  while j>=i:                \n",
        "     FORWARD.append(TREE[i]) \n",
        "     i=i+1                 \n",
        "     BACKWARD.append(TREE[j])              \n",
        "     j=j-1                      \n",
        "     print(\"FORWARD PATH\")    \n",
        "     for n in FORWARD:\n",
        "         print(n)\n",
        "     print(\"BACKWARD PATH\") \n",
        "     for m in BACKWARD:\n",
        "         print(m)\n",
        "     print(\"\\n\")         \n",
        "     L1=len(FORWARD)       \n",
        "     L2=len(BACKWARD)      \n",
        "     if FORWARD[L1-1]==BACKWARD[L2-1]:              \n",
        "        print(\"COMMON POINT REACHED! SUCCESSFUL!\")   \n",
        "        print(\"COMMON POINT IS \", FORWARD[L1-1])  \n",
        "        s=1                                              \n",
        "        break\n",
        "  if s==0:                                              \n",
        "    print(\"SEARCH UNSUCCESSFUL! COMMON POINT NOT REACHED\") \n",
        "print(\"\\n\\nTo move from S to G\\n\\n\")\n",
        "Bidirectional(TREE,0,9)\n",
        "print(\"\\n\\nTo move from A to H\\n\\n\")\n",
        "Bidirectional(TREE,1,7)"
      ],
      "execution_count": null,
      "outputs": []
    }
  ]
}